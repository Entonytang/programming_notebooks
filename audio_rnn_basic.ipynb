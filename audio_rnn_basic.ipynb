{
 "cells": [
  {
   "cell_type": "code",
   "execution_count": 1,
   "metadata": {
    "collapsed": true
   },
   "outputs": [],
   "source": [
    "import numpy as np\n",
    "import librosa"
   ]
  },
  {
   "cell_type": "code",
   "execution_count": 3,
   "metadata": {},
   "outputs": [
    {
     "name": "stdout",
     "output_type": "stream",
     "text": [
      "(78000,) 16000 (74000,) 16000\n"
     ]
    }
   ],
   "source": [
    "# load audio\n",
    "audio_manifest = librosa.util.find_files(\"pcsnpny-20150204-mkj\")\n",
    "sig1, sr1 = librosa.core.load(audio_manifest[0], sr=None)\n",
    "sig2, sr2 = librosa.core.load(audio_manifest[1], sr=None)\n",
    "print(sig1.shape, sr1, sig2.shape, sr2)"
   ]
  },
  {
   "cell_type": "code",
   "execution_count": 8,
   "metadata": {},
   "outputs": [
    {
     "name": "stdout",
     "output_type": "stream",
     "text": [
      "(128, 153) (128, 145) 0.0 0.0\n"
     ]
    }
   ],
   "source": [
    "win_len = 1024\n",
    "hop_len = win_len // 2\n",
    "gram1 = librosa.feature.melspectrogram(sig1, sr=sr1, n_fft=win_len, hop_length=hop_len)\n",
    "gram2 = librosa.feature.melspectrogram(sig2, sr=sr2, n_fft=win_len, hop_length=hop_len)\n",
    "\n",
    "gram1 = librosa.power_to_db(gram1, ref=np.max)\n",
    "gram2 = librosa.power_to_db(gram2, ref=np.max)\n",
    "\n",
    "gram1 -= gram1.min()\n",
    "gram2 -= gram2.min()\n",
    "\n",
    "print(gram1.shape, gram2.shape, gram1.min(), gram2.min())"
   ]
  },
  {
   "cell_type": "code",
   "execution_count": 56,
   "metadata": {},
   "outputs": [
    {
     "name": "stdout",
     "output_type": "stream",
     "text": [
      "[153, 145] torch.Size([2, 153, 128]) torch.Size([153, 128])\n",
      "pack size: torch.Size([298, 128])\n",
      "h0: torch.Size([3, 2, 20])\n",
      "out size: torch.Size([298, 20]) torch.Size([3, 2, 20])\n",
      "torch.Size([2, 153, 20]) [153, 145]\n"
     ]
    }
   ],
   "source": [
    "import torch\n",
    "import torch.nn as nn\n",
    "from torch.autograd import Variable\n",
    "\n",
    "BATCH_SIZE = 2\n",
    "MAX_LENGTH = max([g.shape[1] for g in [gram1, gram2]])\n",
    "HIDDEN_SIZE = 20\n",
    "N_LAYERS = 3\n",
    "\n",
    "def pad2d(t, length):\n",
    "    if t.size(1) == length:\n",
    "        return(t)\n",
    "    else:\n",
    "        return torch.cat((t, t.new(t.size(0), length - t.size(1)).zero_()),1)\n",
    "\n",
    "    \n",
    "seq_lens = [g.shape[1] for g in [gram1, gram2]]\n",
    "batch_in = [pad2d(torch.Tensor(g), MAX_LENGTH) for g in [gram1, gram2]]\n",
    "batch_in = torch.stack(batch_in).transpose(1,2)\n",
    "print(seq_lens, batch_in.size(), in_size)\n",
    "batch_in = Variable(batch_in)\n",
    "\n",
    "pack = torch.nn.utils.rnn.pack_padded_sequence(batch_in, seq_lens, batch_first=True)\n",
    "print(\"pack size:\", pack.data.size())\n",
    "\n",
    "rnn = nn.GRU(128, HIDDEN_SIZE, N_LAYERS, batch_first=True)\n",
    "h0 = Variable(torch.randn(N_LAYERS, BATCH_SIZE, HIDDEN_SIZE))\n",
    "print(\"h0:\", h0.size())\n",
    "# forward\n",
    "out, hidden_new = rnn(pack, h0)\n",
    "\n",
    "print(\"out size:\", out.data.size(), hidden_new.size())\n",
    "\n",
    "unpacked, unpacked_len = torch.nn.utils.rnn.pad_packed_sequence(out, batch_first=True)\n",
    "\n",
    "print(unpacked.size(), unpacked_len)\n"
   ]
  },
  {
   "cell_type": "code",
   "execution_count": 55,
   "metadata": {},
   "outputs": [
    {
     "data": {
      "text/plain": [
       "torch.utils.data.dataset.TensorDataset"
      ]
     },
     "execution_count": 55,
     "metadata": {},
     "output_type": "execute_result"
    }
   ],
   "source": [
    "from torch.utils.data import TensorDataset, DataLoader\n",
    "DataLoader()"
   ]
  }
 ],
 "metadata": {
  "kernelspec": {
   "display_name": "Python 3",
   "language": "python",
   "name": "python3"
  },
  "language_info": {
   "codemirror_mode": {
    "name": "ipython",
    "version": 3
   },
   "file_extension": ".py",
   "mimetype": "text/x-python",
   "name": "python",
   "nbconvert_exporter": "python",
   "pygments_lexer": "ipython3",
   "version": "3.6.1"
  }
 },
 "nbformat": 4,
 "nbformat_minor": 2
}
