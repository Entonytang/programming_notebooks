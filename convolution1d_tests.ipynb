{
 "cells": [
  {
   "cell_type": "code",
   "execution_count": 1,
   "metadata": {
    "collapsed": true
   },
   "outputs": [],
   "source": [
    "import torch\n",
    "import torch.nn as nn\n",
    "import torch.nn.functional as F\n",
    "from torch.autograd import Variable\n",
    "import torchaudio"
   ]
  },
  {
   "cell_type": "code",
   "execution_count": 13,
   "metadata": {},
   "outputs": [
    {
     "data": {
      "text/plain": [
       "[Variable containing:\n",
       " (0 ,.,.) = \n",
       " \n",
       " Columns 0 to 18 \n",
       "     0   1   2   3   4   5   6   7   8   9  10  11  12  13  14  15  16  17  18\n",
       " \n",
       " Columns 19 to 37 \n",
       "    19  20  21  22  23  24  25  26  27  28  29  30  31  32  33  34  35  36  37\n",
       " [torch.FloatTensor of size 1x1x38], Variable containing:\n",
       " (0 ,.,.) = \n",
       " \n",
       " Columns 0 to 18 \n",
       "     0   1   2   3   4   5   6   7   8   9  10  11  12  13  14  15  16  17  18\n",
       " \n",
       " Columns 19 to 37 \n",
       "    19  20  21  22  23  24  25  26  27  28  29  30  31  32  33  34  35  36  24\n",
       " [torch.FloatTensor of size 1x1x38], Variable containing:\n",
       " (0 ,.,.) = \n",
       " \n",
       " Columns 0 to 18 \n",
       "     0   1   2   3   4   5   6   7   8   9  10  11  12  13  14  15  16  17  18\n",
       " \n",
       " Columns 19 to 37 \n",
       "    19  20  21  22  23  24  25  26  27  28  29  30  31  32  33  34  30  23  19\n",
       " [torch.FloatTensor of size 1x1x38], Variable containing:\n",
       " (0 ,.,.) = \n",
       " \n",
       " Columns 0 to 18 \n",
       "     1   1   2   3   4   5   6   7   8   9  10  11  12  13  14  15  16  17  18\n",
       " \n",
       " Columns 19 to 37 \n",
       "    19  20  21  22  23  24  25  26  27  28  29  30  31  30  28  28  20  18  17\n",
       " [torch.FloatTensor of size 1x1x38], Variable containing:\n",
       " (0 ,.,.) = \n",
       " \n",
       " Columns 0 to 18 \n",
       "     1   2   2   3   4   5   6   7   8   9  10  11  12  13  14  15  16  17  18\n",
       " \n",
       " Columns 19 to 37 \n",
       "    19  20  21  22  23  24  25  26  27  27  27  28  26  25  24  19  17  16  15\n",
       " [torch.FloatTensor of size 1x1x38]]"
      ]
     },
     "execution_count": 13,
     "metadata": {},
     "output_type": "execute_result"
    }
   ],
   "source": [
    "X = torch.arange(0, 38).view(1, 1, -1)\n",
    "X = Variable(X)\n",
    "ksize = 3\n",
    "conv1d1_3dN = []\n",
    "pad1dN = []\n",
    "for i in range(4):\n",
    "    conv1d1_3dN += [nn.Conv1d(in_channels=1, out_channels=1, stride=1, padding=0, kernel_size=ksize, dilation=(i+1), bias=False)]\n",
    "    pad1dN += [nn.ConstantPad1d(((i+1), (i+1)), 0)]\n",
    "outs = [X]\n",
    "for i, cv in enumerate(zip(conv1d1_3dN, pad1dN)):\n",
    "    cv[0].weight.data.fill_(1.0 / ksize)\n",
    "    model = nn.Sequential(cv[1], cv[0])\n",
    "    #model = cv[0]\n",
    "    out = model(outs[i])\n",
    "    outs.append(out.long().float())\n",
    "outs"
   ]
  },
  {
   "cell_type": "code",
   "execution_count": 3,
   "metadata": {},
   "outputs": [],
   "source": []
  },
  {
   "cell_type": "code",
   "execution_count": null,
   "metadata": {
    "collapsed": true
   },
   "outputs": [],
   "source": []
  }
 ],
 "metadata": {
  "kernelspec": {
   "display_name": "Python [conda env:pytorch-dev]",
   "language": "python",
   "name": "conda-env-pytorch-dev-py"
  },
  "language_info": {
   "codemirror_mode": {
    "name": "ipython",
    "version": 3
   },
   "file_extension": ".py",
   "mimetype": "text/x-python",
   "name": "python",
   "nbconvert_exporter": "python",
   "pygments_lexer": "ipython3",
   "version": "3.6.2"
  }
 },
 "nbformat": 4,
 "nbformat_minor": 2
}
